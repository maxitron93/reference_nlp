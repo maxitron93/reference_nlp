{
 "cells": [
  {
   "cell_type": "code",
   "execution_count": 1,
   "metadata": {},
   "outputs": [],
   "source": [
    "# Load the libraries\n",
    "import pandas as pd\n",
    "import nltk\n",
    "# nltk.download('punkt')\n",
    "# nltk.download('averaged_perceptron_tagger')\n",
    "# nltk.download('tagsets')"
   ]
  },
  {
   "cell_type": "markdown",
   "metadata": {},
   "source": [
    "### Load the data"
   ]
  },
  {
   "cell_type": "code",
   "execution_count": 2,
   "metadata": {},
   "outputs": [],
   "source": [
    "# Load in the data\n",
    "data = pd.read_csv('../Datasets/yelp_labelled_processed/yelp_labelled_processed.csv')\n",
    "\n",
    "# Replace non-string reviews with strings (this is jsut a quirck of this dataset becasue some are np.nan)\n",
    "data['text'] = data['text'].apply(lambda review: str(review))"
   ]
  },
  {
   "cell_type": "code",
   "execution_count": 3,
   "metadata": {},
   "outputs": [],
   "source": [
    "# Convert each string into an array\n",
    "data['text'] = data['text'].copy().apply(lambda string: string.split(' '))"
   ]
  },
  {
   "cell_type": "code",
   "execution_count": 4,
   "metadata": {},
   "outputs": [
    {
     "data": {
      "text/plain": [
       "0    [new, rule, waitingtable, almostalways, cant, ...\n",
       "1    [giving, twostar, 'spretty, rating, might, nig...\n",
       "2    [staying, planet, hollywood, acrossstreet, saw...\n",
       "3    [foodgood, price, super, expensive, 8, buck, e...\n",
       "4    [worse, company, deal, horrible, work, bring, ...\n",
       "Name: text, dtype: object"
      ]
     },
     "execution_count": 4,
     "metadata": {},
     "output_type": "execute_result"
    }
   ],
   "source": [
    "# Have a look at the first 5 rows\n",
    "data['text'][0:5]"
   ]
  },
  {
   "cell_type": "markdown",
   "metadata": {},
   "source": [
    "The pos tagger accepts a list of tokens"
   ]
  },
  {
   "cell_type": "markdown",
   "metadata": {},
   "source": [
    "### Apply POS tagger"
   ]
  },
  {
   "cell_type": "code",
   "execution_count": 5,
   "metadata": {},
   "outputs": [],
   "source": [
    "# Apply POS tagging\n",
    "data['text'] = data['text'].apply(lambda tokens: nltk.pos_tag(tokens))"
   ]
  },
  {
   "cell_type": "code",
   "execution_count": 6,
   "metadata": {
    "scrolled": true
   },
   "outputs": [
    {
     "data": {
      "text/plain": [
       "[('new', 'JJ'),\n",
       " ('rule', 'NN'),\n",
       " ('waitingtable', 'JJ'),\n",
       " ('almostalways', 'NNS'),\n",
       " ('cant', 'VBP'),\n",
       " ('wait', 'NN'),\n",
       " ('inside', 'RB'),\n",
       " ('posted', 'VBD'),\n",
       " ('sign', 'JJ'),\n",
       " ('upfront', 'JJ'),\n",
       " ('cause', 'NN'),\n",
       " ('concern', 'NN'),\n",
       " ('seated', 'VBN'),\n",
       " ('patron', 'RB'),\n",
       " ('awful', 'JJ'),\n",
       " ('like', 'IN'),\n",
       " ('included', 'JJ'),\n",
       " ('apology', 'NN'),\n",
       " ('along', 'IN'),\n",
       " ('especially', 'RB'),\n",
       " ('cold', 'JJ'),\n",
       " ('p.s', 'JJ'),\n",
       " ('try', 'NN'),\n",
       " ('calling', 'VBG'),\n",
       " ('ahead', 'RB'),\n",
       " ('reserve', 'NN'),\n",
       " ('table', 'JJ'),\n",
       " ('thats', 'NNS'),\n",
       " ('waiting', 'VBG'),\n",
       " ('list', 'NN'),\n",
       " ('short', 'JJ'),\n",
       " ('otherwise', 'RB'),\n",
       " ('show', 'VBP'),\n",
       " ('reserve', 'NN'),\n",
       " ('placecould', 'NN'),\n",
       " ('wrong', 'JJ'),\n",
       " ('eye', 'NN'),\n",
       " ('rattle', 'VB'),\n",
       " ('away', 'RP'),\n",
       " ('hot', 'JJ'),\n",
       " ('beverage', 'NN'),\n",
       " ('must', 'MD'),\n",
       " ('mention', 'VB'),\n",
       " ('obsessed', 'VBD'),\n",
       " ('mad', 'NN')]"
      ]
     },
     "execution_count": 6,
     "metadata": {},
     "output_type": "execute_result"
    }
   ],
   "source": [
    "# Have a look at the first text\n",
    "data['text'][0]"
   ]
  },
  {
   "cell_type": "markdown",
   "metadata": {},
   "source": [
    "### Get information for POS tag"
   ]
  },
  {
   "cell_type": "code",
   "execution_count": 9,
   "metadata": {},
   "outputs": [
    {
     "name": "stdout",
     "output_type": "stream",
     "text": [
      "NN: noun, common, singular or mass\n",
      "    common-carrier cabbage knuckle-duster Casino afghan shed thermostat\n",
      "    investment slide humour falloff slick wind hyena override subhumanity\n",
      "    machinist ...\n"
     ]
    }
   ],
   "source": [
    "nltk.help.upenn_tagset(\"NN\")"
   ]
  },
  {
   "cell_type": "code",
   "execution_count": null,
   "metadata": {},
   "outputs": [],
   "source": []
  },
  {
   "cell_type": "code",
   "execution_count": null,
   "metadata": {},
   "outputs": [],
   "source": []
  },
  {
   "cell_type": "code",
   "execution_count": null,
   "metadata": {},
   "outputs": [],
   "source": []
  },
  {
   "cell_type": "code",
   "execution_count": null,
   "metadata": {},
   "outputs": [],
   "source": []
  },
  {
   "cell_type": "code",
   "execution_count": null,
   "metadata": {},
   "outputs": [],
   "source": []
  },
  {
   "cell_type": "code",
   "execution_count": null,
   "metadata": {},
   "outputs": [],
   "source": []
  },
  {
   "cell_type": "code",
   "execution_count": null,
   "metadata": {},
   "outputs": [],
   "source": []
  }
 ],
 "metadata": {
  "kernelspec": {
   "display_name": "Python 3",
   "language": "python",
   "name": "python3"
  },
  "language_info": {
   "codemirror_mode": {
    "name": "ipython",
    "version": 3
   },
   "file_extension": ".py",
   "mimetype": "text/x-python",
   "name": "python",
   "nbconvert_exporter": "python",
   "pygments_lexer": "ipython3",
   "version": "3.7.4"
  }
 },
 "nbformat": 4,
 "nbformat_minor": 2
}
